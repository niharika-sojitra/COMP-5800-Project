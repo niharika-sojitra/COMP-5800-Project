{
 "cells": [
  {
   "cell_type": "markdown",
   "metadata": {},
   "source": [
    "# 0. Install Dependencies and Bring in Data"
   ]
  },
  {
   "cell_type": "code",
   "execution_count": 2,
   "metadata": {
    "jupyter": {
     "outputs_hidden": true
    },
    "tags": []
   },
   "outputs": [
    {
     "name": "stdout",
     "output_type": "stream",
     "text": [
      "Requirement already satisfied: tensorflow in j:\\program files\\anaconda3\\envs\\python37\\lib\\site-packages (2.7.0)\n",
      "Requirement already satisfied: tensorflow-gpu in j:\\program files\\anaconda3\\envs\\python37\\lib\\site-packages (2.7.0)\n",
      "Requirement already satisfied: pandas in j:\\program files\\anaconda3\\envs\\python37\\lib\\site-packages (1.3.4)\n",
      "Requirement already satisfied: matplotlib in j:\\program files\\anaconda3\\envs\\python37\\lib\\site-packages (3.5.1)\n",
      "Requirement already satisfied: sklearn in j:\\program files\\anaconda3\\envs\\python37\\lib\\site-packages (0.0)\n",
      "Requirement already satisfied: keras-preprocessing>=1.1.1 in j:\\program files\\anaconda3\\envs\\python37\\lib\\site-packages (from tensorflow) (1.1.2)\n",
      "Requirement already satisfied: absl-py>=0.4.0 in j:\\program files\\anaconda3\\envs\\python37\\lib\\site-packages (from tensorflow) (1.3.0)\n",
      "Requirement already satisfied: opt-einsum>=2.3.2 in j:\\program files\\anaconda3\\envs\\python37\\lib\\site-packages (from tensorflow) (3.3.0)\n",
      "Requirement already satisfied: six>=1.12.0 in j:\\program files\\anaconda3\\envs\\python37\\lib\\site-packages (from tensorflow) (1.16.0)\n",
      "Requirement already satisfied: astunparse>=1.6.0 in j:\\program files\\anaconda3\\envs\\python37\\lib\\site-packages (from tensorflow) (1.6.3)\n",
      "Requirement already satisfied: grpcio<2.0,>=1.24.3 in j:\\program files\\anaconda3\\envs\\python37\\lib\\site-packages (from tensorflow) (1.49.1)\n",
      "Requirement already satisfied: tensorflow-estimator<2.8,~=2.7.0rc0 in j:\\program files\\anaconda3\\envs\\python37\\lib\\site-packages (from tensorflow) (2.7.0)\n",
      "Requirement already satisfied: google-pasta>=0.1.1 in j:\\program files\\anaconda3\\envs\\python37\\lib\\site-packages (from tensorflow) (0.2.0)\n",
      "Requirement already satisfied: wheel<1.0,>=0.32.0 in j:\\program files\\anaconda3\\envs\\python37\\lib\\site-packages (from tensorflow) (0.37.1)\n",
      "Requirement already satisfied: tensorflow-io-gcs-filesystem>=0.21.0 in j:\\program files\\anaconda3\\envs\\python37\\lib\\site-packages (from tensorflow) (0.27.0)\n",
      "Requirement already satisfied: tensorboard~=2.6 in j:\\program files\\anaconda3\\envs\\python37\\lib\\site-packages (from tensorflow) (2.10.1)\n",
      "Requirement already satisfied: termcolor>=1.1.0 in j:\\program files\\anaconda3\\envs\\python37\\lib\\site-packages (from tensorflow) (2.0.1)\n",
      "Requirement already satisfied: gast<0.5.0,>=0.2.1 in j:\\program files\\anaconda3\\envs\\python37\\lib\\site-packages (from tensorflow) (0.4.0)\n",
      "Requirement already satisfied: wrapt>=1.11.0 in j:\\program files\\anaconda3\\envs\\python37\\lib\\site-packages (from tensorflow) (1.14.1)\n",
      "Requirement already satisfied: h5py>=2.9.0 in j:\\program files\\anaconda3\\envs\\python37\\lib\\site-packages (from tensorflow) (3.7.0)\n",
      "Requirement already satisfied: typing-extensions>=3.6.6 in j:\\program files\\anaconda3\\envs\\python37\\lib\\site-packages (from tensorflow) (4.4.0)\n",
      "Requirement already satisfied: libclang>=9.0.1 in j:\\program files\\anaconda3\\envs\\python37\\lib\\site-packages (from tensorflow) (14.0.6)\n",
      "Requirement already satisfied: numpy>=1.14.5 in j:\\program files\\anaconda3\\envs\\python37\\lib\\site-packages (from tensorflow) (1.21.4)\n",
      "Requirement already satisfied: protobuf>=3.9.2 in j:\\program files\\anaconda3\\envs\\python37\\lib\\site-packages (from tensorflow) (3.19.6)\n",
      "Requirement already satisfied: keras<2.8,>=2.7.0rc0 in j:\\program files\\anaconda3\\envs\\python37\\lib\\site-packages (from tensorflow) (2.7.0)\n",
      "Requirement already satisfied: flatbuffers<3.0,>=1.12 in j:\\program files\\anaconda3\\envs\\python37\\lib\\site-packages (from tensorflow) (2.0.7)\n",
      "Requirement already satisfied: python-dateutil>=2.7.3 in j:\\program files\\anaconda3\\envs\\python37\\lib\\site-packages (from pandas) (2.8.2)\n",
      "Requirement already satisfied: pytz>=2017.3 in j:\\program files\\anaconda3\\envs\\python37\\lib\\site-packages (from pandas) (2021.3)\n",
      "Requirement already satisfied: kiwisolver>=1.0.1 in j:\\program files\\anaconda3\\envs\\python37\\lib\\site-packages (from matplotlib) (1.3.2)\n",
      "Requirement already satisfied: fonttools>=4.22.0 in j:\\program files\\anaconda3\\envs\\python37\\lib\\site-packages (from matplotlib) (4.29.1)\n",
      "Requirement already satisfied: pillow>=6.2.0 in j:\\program files\\anaconda3\\envs\\python37\\lib\\site-packages (from matplotlib) (9.0.1)\n",
      "Requirement already satisfied: packaging>=20.0 in j:\\program files\\anaconda3\\envs\\python37\\lib\\site-packages (from matplotlib) (21.3)\n",
      "Requirement already satisfied: pyparsing>=2.2.1 in j:\\program files\\anaconda3\\envs\\python37\\lib\\site-packages (from matplotlib) (3.0.4)\n",
      "Requirement already satisfied: cycler>=0.10 in j:\\program files\\anaconda3\\envs\\python37\\lib\\site-packages (from matplotlib) (0.11.0)\n",
      "Requirement already satisfied: scikit-learn in j:\\program files\\anaconda3\\envs\\python37\\lib\\site-packages (from sklearn) (1.0.1)\n",
      "Requirement already satisfied: werkzeug>=1.0.1 in j:\\program files\\anaconda3\\envs\\python37\\lib\\site-packages (from tensorboard~=2.6->tensorflow) (2.2.2)\n",
      "Requirement already satisfied: setuptools>=41.0.0 in j:\\program files\\anaconda3\\envs\\python37\\lib\\site-packages (from tensorboard~=2.6->tensorflow) (58.0.4)\n",
      "Requirement already satisfied: google-auth<3,>=1.6.3 in j:\\program files\\anaconda3\\envs\\python37\\lib\\site-packages (from tensorboard~=2.6->tensorflow) (2.13.0)\n",
      "Requirement already satisfied: markdown>=2.6.8 in j:\\program files\\anaconda3\\envs\\python37\\lib\\site-packages (from tensorboard~=2.6->tensorflow) (3.4.1)\n",
      "Requirement already satisfied: google-auth-oauthlib<0.5,>=0.4.1 in j:\\program files\\anaconda3\\envs\\python37\\lib\\site-packages (from tensorboard~=2.6->tensorflow) (0.4.6)\n",
      "Requirement already satisfied: requests<3,>=2.21.0 in j:\\program files\\anaconda3\\envs\\python37\\lib\\site-packages (from tensorboard~=2.6->tensorflow) (2.27.1)\n",
      "Requirement already satisfied: tensorboard-plugin-wit>=1.6.0 in j:\\program files\\anaconda3\\envs\\python37\\lib\\site-packages (from tensorboard~=2.6->tensorflow) (1.8.1)\n",
      "Requirement already satisfied: tensorboard-data-server<0.7.0,>=0.6.0 in j:\\program files\\anaconda3\\envs\\python37\\lib\\site-packages (from tensorboard~=2.6->tensorflow) (0.6.1)\n",
      "Requirement already satisfied: rsa<5,>=3.1.4 in j:\\program files\\anaconda3\\envs\\python37\\lib\\site-packages (from google-auth<3,>=1.6.3->tensorboard~=2.6->tensorflow) (4.9)\n",
      "Requirement already satisfied: cachetools<6.0,>=2.0.0 in j:\\program files\\anaconda3\\envs\\python37\\lib\\site-packages (from google-auth<3,>=1.6.3->tensorboard~=2.6->tensorflow) (5.2.0)\n",
      "Requirement already satisfied: pyasn1-modules>=0.2.1 in j:\\program files\\anaconda3\\envs\\python37\\lib\\site-packages (from google-auth<3,>=1.6.3->tensorboard~=2.6->tensorflow) (0.2.8)\n",
      "Requirement already satisfied: requests-oauthlib>=0.7.0 in j:\\program files\\anaconda3\\envs\\python37\\lib\\site-packages (from google-auth-oauthlib<0.5,>=0.4.1->tensorboard~=2.6->tensorflow) (1.3.1)\n",
      "Requirement already satisfied: importlib-metadata>=4.4 in j:\\program files\\anaconda3\\envs\\python37\\lib\\site-packages (from markdown>=2.6.8->tensorboard~=2.6->tensorflow) (5.1.0)\n",
      "Requirement already satisfied: zipp>=0.5 in j:\\program files\\anaconda3\\envs\\python37\\lib\\site-packages (from importlib-metadata>=4.4->markdown>=2.6.8->tensorboard~=2.6->tensorflow) (3.7.0)\n",
      "Requirement already satisfied: pyasn1<0.5.0,>=0.4.6 in j:\\program files\\anaconda3\\envs\\python37\\lib\\site-packages (from pyasn1-modules>=0.2.1->google-auth<3,>=1.6.3->tensorboard~=2.6->tensorflow) (0.4.8)\n",
      "Requirement already satisfied: urllib3<1.27,>=1.21.1 in j:\\program files\\anaconda3\\envs\\python37\\lib\\site-packages (from requests<3,>=2.21.0->tensorboard~=2.6->tensorflow) (1.26.8)\n",
      "Requirement already satisfied: charset-normalizer~=2.0.0 in j:\\program files\\anaconda3\\envs\\python37\\lib\\site-packages (from requests<3,>=2.21.0->tensorboard~=2.6->tensorflow) (2.0.12)\n",
      "Requirement already satisfied: certifi>=2017.4.17 in j:\\program files\\anaconda3\\envs\\python37\\lib\\site-packages (from requests<3,>=2.21.0->tensorboard~=2.6->tensorflow) (2021.10.8)\n",
      "Requirement already satisfied: idna<4,>=2.5 in j:\\program files\\anaconda3\\envs\\python37\\lib\\site-packages (from requests<3,>=2.21.0->tensorboard~=2.6->tensorflow) (3.3)\n",
      "Requirement already satisfied: oauthlib>=3.0.0 in j:\\program files\\anaconda3\\envs\\python37\\lib\\site-packages (from requests-oauthlib>=0.7.0->google-auth-oauthlib<0.5,>=0.4.1->tensorboard~=2.6->tensorflow) (3.2.2)\n",
      "Requirement already satisfied: MarkupSafe>=2.1.1 in j:\\program files\\anaconda3\\envs\\python37\\lib\\site-packages (from werkzeug>=1.0.1->tensorboard~=2.6->tensorflow) (2.1.1)\n",
      "Requirement already satisfied: scipy>=1.1.0 in j:\\program files\\anaconda3\\envs\\python37\\lib\\site-packages (from scikit-learn->sklearn) (1.7.3)\n",
      "Requirement already satisfied: joblib>=0.11 in j:\\program files\\anaconda3\\envs\\python37\\lib\\site-packages (from scikit-learn->sklearn) (1.1.0)\n",
      "Requirement already satisfied: threadpoolctl>=2.0.0 in j:\\program files\\anaconda3\\envs\\python37\\lib\\site-packages (from scikit-learn->sklearn) (3.1.0)\n"
     ]
    }
   ],
   "source": [
    "!pip install tensorflow tensorflow-gpu pandas matplotlib sklearn"
   ]
  },
  {
   "cell_type": "code",
   "execution_count": 3,
   "metadata": {
    "tags": []
   },
   "outputs": [],
   "source": [
    "import os\n",
    "import pandas as pd\n",
    "import tensorflow as tf\n",
    "import numpy as np"
   ]
  },
  {
   "cell_type": "code",
   "execution_count": 4,
   "metadata": {
    "tags": []
   },
   "outputs": [],
   "source": [
    "df = pd.read_csv(os.path.join('jigsaw-toxic-comment-classification-challenge','train.csv', 'train.csv'))"
   ]
  },
  {
   "cell_type": "code",
   "execution_count": 5,
   "metadata": {
    "tags": []
   },
   "outputs": [
    {
     "data": {
      "text/html": [
       "<div>\n",
       "<style scoped>\n",
       "    .dataframe tbody tr th:only-of-type {\n",
       "        vertical-align: middle;\n",
       "    }\n",
       "\n",
       "    .dataframe tbody tr th {\n",
       "        vertical-align: top;\n",
       "    }\n",
       "\n",
       "    .dataframe thead th {\n",
       "        text-align: right;\n",
       "    }\n",
       "</style>\n",
       "<table border=\"1\" class=\"dataframe\">\n",
       "  <thead>\n",
       "    <tr style=\"text-align: right;\">\n",
       "      <th></th>\n",
       "      <th>id</th>\n",
       "      <th>comment_text</th>\n",
       "      <th>toxic</th>\n",
       "      <th>severe_toxic</th>\n",
       "      <th>obscene</th>\n",
       "      <th>threat</th>\n",
       "      <th>insult</th>\n",
       "      <th>identity_hate</th>\n",
       "    </tr>\n",
       "  </thead>\n",
       "  <tbody>\n",
       "    <tr>\n",
       "      <th>0</th>\n",
       "      <td>0000997932d777bf</td>\n",
       "      <td>Explanation\\nWhy the edits made under my usern...</td>\n",
       "      <td>0</td>\n",
       "      <td>0</td>\n",
       "      <td>0</td>\n",
       "      <td>0</td>\n",
       "      <td>0</td>\n",
       "      <td>0</td>\n",
       "    </tr>\n",
       "    <tr>\n",
       "      <th>1</th>\n",
       "      <td>000103f0d9cfb60f</td>\n",
       "      <td>D'aww! He matches this background colour I'm s...</td>\n",
       "      <td>0</td>\n",
       "      <td>0</td>\n",
       "      <td>0</td>\n",
       "      <td>0</td>\n",
       "      <td>0</td>\n",
       "      <td>0</td>\n",
       "    </tr>\n",
       "    <tr>\n",
       "      <th>2</th>\n",
       "      <td>000113f07ec002fd</td>\n",
       "      <td>Hey man, I'm really not trying to edit war. It...</td>\n",
       "      <td>0</td>\n",
       "      <td>0</td>\n",
       "      <td>0</td>\n",
       "      <td>0</td>\n",
       "      <td>0</td>\n",
       "      <td>0</td>\n",
       "    </tr>\n",
       "    <tr>\n",
       "      <th>3</th>\n",
       "      <td>0001b41b1c6bb37e</td>\n",
       "      <td>\"\\nMore\\nI can't make any real suggestions on ...</td>\n",
       "      <td>0</td>\n",
       "      <td>0</td>\n",
       "      <td>0</td>\n",
       "      <td>0</td>\n",
       "      <td>0</td>\n",
       "      <td>0</td>\n",
       "    </tr>\n",
       "    <tr>\n",
       "      <th>4</th>\n",
       "      <td>0001d958c54c6e35</td>\n",
       "      <td>You, sir, are my hero. Any chance you remember...</td>\n",
       "      <td>0</td>\n",
       "      <td>0</td>\n",
       "      <td>0</td>\n",
       "      <td>0</td>\n",
       "      <td>0</td>\n",
       "      <td>0</td>\n",
       "    </tr>\n",
       "  </tbody>\n",
       "</table>\n",
       "</div>"
      ],
      "text/plain": [
       "                 id                                       comment_text  toxic  \\\n",
       "0  0000997932d777bf  Explanation\\nWhy the edits made under my usern...      0   \n",
       "1  000103f0d9cfb60f  D'aww! He matches this background colour I'm s...      0   \n",
       "2  000113f07ec002fd  Hey man, I'm really not trying to edit war. It...      0   \n",
       "3  0001b41b1c6bb37e  \"\\nMore\\nI can't make any real suggestions on ...      0   \n",
       "4  0001d958c54c6e35  You, sir, are my hero. Any chance you remember...      0   \n",
       "\n",
       "   severe_toxic  obscene  threat  insult  identity_hate  \n",
       "0             0        0       0       0              0  \n",
       "1             0        0       0       0              0  \n",
       "2             0        0       0       0              0  \n",
       "3             0        0       0       0              0  \n",
       "4             0        0       0       0              0  "
      ]
     },
     "execution_count": 5,
     "metadata": {},
     "output_type": "execute_result"
    }
   ],
   "source": [
    "df.head()"
   ]
  },
  {
   "cell_type": "markdown",
   "metadata": {},
   "source": [
    "# 1. Preprocess"
   ]
  },
  {
   "cell_type": "code",
   "execution_count": 6,
   "metadata": {
    "jupyter": {
     "outputs_hidden": true
    },
    "tags": []
   },
   "outputs": [
    {
     "name": "stdout",
     "output_type": "stream",
     "text": [
      "Package                      Version\n",
      "---------------------------- -----------\n",
      "absl-py                      1.3.0\n",
      "aiohttp                      3.8.3\n",
      "aiosignal                    1.3.1\n",
      "anyio                        3.6.2\n",
      "argcomplete                  1.12.3\n",
      "argon2-cffi                  20.1.0\n",
      "astunparse                   1.6.3\n",
      "async-generator              1.10\n",
      "async-timeout                4.0.2\n",
      "asynctest                    0.13.0\n",
      "attrs                        21.4.0\n",
      "backcall                     0.2.0\n",
      "bcrypt                       4.0.1\n",
      "beautifulsoup4               4.11.1\n",
      "bleach                       4.1.0\n",
      "bpemb                        0.3.4\n",
      "cachetools                   5.2.0\n",
      "certifi                      2021.10.8\n",
      "cffi                         1.15.0\n",
      "charset-normalizer           2.0.12\n",
      "chart-studio                 1.1.0\n",
      "click                        8.1.3\n",
      "cloudpickle                  2.0.0\n",
      "colorama                     0.4.4\n",
      "conllu                       4.5.2\n",
      "cryptography                 38.0.4\n",
      "cycler                       0.11.0\n",
      "Cython                       0.29.28\n",
      "debugpy                      1.5.1\n",
      "decorator                    5.1.1\n",
      "defusedxml                   0.7.1\n",
      "Deprecated                   1.2.13\n",
      "entrypoints                  0.3\n",
      "et-xmlfile                   1.1.0\n",
      "fastapi                      0.88.0\n",
      "ffmpy                        0.3.0\n",
      "filelock                     3.8.0\n",
      "flair                        0.11.3\n",
      "flatbuffers                  2.0.7\n",
      "fonttools                    4.29.1\n",
      "frozenlist                   1.3.3\n",
      "fsspec                       2022.11.0\n",
      "ftfy                         6.1.1\n",
      "future                       0.18.2\n",
      "gast                         0.4.0\n",
      "gdown                        4.4.0\n",
      "gensim                       4.2.0\n",
      "gitdb                        4.0.9\n",
      "GitPython                    3.1.29\n",
      "google-auth                  2.13.0\n",
      "google-auth-oauthlib         0.4.6\n",
      "google-pasta                 0.2.0\n",
      "gradio                       3.11.0\n",
      "grpcio                       1.49.1\n",
      "gym                          0.21.0\n",
      "h11                          0.12.0\n",
      "h5py                         3.7.0\n",
      "httpcore                     0.15.0\n",
      "httpx                        0.23.1\n",
      "huggingface-hub              0.10.1\n",
      "hyperopt                     0.2.7\n",
      "idna                         3.3\n",
      "imageio                      2.22.2\n",
      "importlib-metadata           5.1.0\n",
      "ipykernel                    6.4.1\n",
      "ipython                      7.31.1\n",
      "ipython-genutils             0.2.0\n",
      "Janome                       0.4.2\n",
      "jedi                         0.18.1\n",
      "Jinja2                       3.0.2\n",
      "joblib                       1.1.0\n",
      "jsonschema                   3.2.0\n",
      "jupyter-client               7.1.2\n",
      "jupyter-core                 4.9.1\n",
      "jupyterlab-pygments          0.1.2\n",
      "keras                        2.7.0\n",
      "Keras-Preprocessing          1.1.2\n",
      "kiwisolver                   1.3.2\n",
      "konoha                       4.6.5\n",
      "langdetect                   1.0.9\n",
      "libclang                     14.0.6\n",
      "lime                         0.2.0.1\n",
      "linkify-it-py                1.0.3\n",
      "lxml                         4.9.1\n",
      "Markdown                     3.4.1\n",
      "markdown-it-py               2.1.0\n",
      "MarkupSafe                   2.1.1\n",
      "matplotlib                   3.5.1\n",
      "matplotlib-inline            0.1.2\n",
      "mdit-py-plugins              0.3.1\n",
      "mdurl                        0.1.2\n",
      "mistune                      0.8.4\n",
      "more-itertools               9.0.0\n",
      "mpld3                        0.3\n",
      "multidict                    6.0.2\n",
      "nbclient                     0.5.3\n",
      "nbconvert                    6.1.0\n",
      "nbformat                     5.1.3\n",
      "nest-asyncio                 1.5.1\n",
      "networkx                     2.6.3\n",
      "nltk                         3.7\n",
      "notebook                     6.4.6\n",
      "numpy                        1.21.4\n",
      "oauthlib                     3.2.2\n",
      "openpyxl                     3.0.9\n",
      "opt-einsum                   3.3.0\n",
      "orjson                       3.8.2\n",
      "overrides                    3.1.0\n",
      "packaging                    21.3\n",
      "pandas                       1.3.4\n",
      "pandocfilters                1.5.0\n",
      "paramiko                     2.12.0\n",
      "parso                        0.8.3\n",
      "pickleshare                  0.7.5\n",
      "Pillow                       9.0.1\n",
      "pip                          21.2.4\n",
      "plotly                       5.6.0\n",
      "pptree                       3.1\n",
      "prometheus-client            0.13.1\n",
      "prompt-toolkit               3.0.20\n",
      "protobuf                     3.19.6\n",
      "py4j                         0.10.9.7\n",
      "pyasn1                       0.4.8\n",
      "pyasn1-modules               0.2.8\n",
      "pycparser                    2.21\n",
      "pycryptodome                 3.16.0\n",
      "pydantic                     1.10.2\n",
      "pydub                        0.25.1\n",
      "Pygments                     2.11.2\n",
      "PyNaCl                       1.5.0\n",
      "pyparsing                    3.0.4\n",
      "pyrsistent                   0.18.0\n",
      "PySocks                      1.7.1\n",
      "python-dateutil              2.8.2\n",
      "python-multipart             0.0.5\n",
      "pytz                         2021.3\n",
      "PyWavelets                   1.3.0\n",
      "pywin32                      302\n",
      "pywinpty                     2.0.2\n",
      "PyYAML                       6.0\n",
      "pyzmq                        22.3.0\n",
      "regex                        2022.9.13\n",
      "requests                     2.27.1\n",
      "requests-oauthlib            1.3.1\n",
      "retrying                     1.3.3\n",
      "rfc3986                      1.5.0\n",
      "rsa                          4.9\n",
      "sacremoses                   0.0.53\n",
      "scikit-image                 0.19.3\n",
      "scikit-learn                 1.0.1\n",
      "scipy                        1.7.3\n",
      "seaborn                      0.11.2\n",
      "segtok                       1.5.11\n",
      "Send2Trash                   1.8.0\n",
      "sentencepiece                0.1.95\n",
      "setuptools                   58.0.4\n",
      "six                          1.16.0\n",
      "sklearn                      0.0\n",
      "smart-open                   6.2.0\n",
      "smmap                        5.0.0\n",
      "sniffio                      1.3.0\n",
      "soupsieve                    2.3.2.post1\n",
      "sqlitedict                   2.0.0\n",
      "starlette                    0.22.0\n",
      "tabulate                     0.9.0\n",
      "tenacity                     8.0.1\n",
      "tensorboard                  2.10.1\n",
      "tensorboard-data-server      0.6.1\n",
      "tensorboard-plugin-wit       1.8.1\n",
      "tensorflow                   2.7.0\n",
      "tensorflow-estimator         2.7.0\n",
      "tensorflow-gpu               2.7.0\n",
      "tensorflow-hub               0.12.0\n",
      "tensorflow-io-gcs-filesystem 0.27.0\n",
      "tensorflow-text              2.7.3\n",
      "termcolor                    2.0.1\n",
      "terminado                    0.13.1\n",
      "testpath                     0.5.0\n",
      "threadpoolctl                3.1.0\n",
      "tifffile                     2021.11.2\n",
      "tokenizers                   0.10.3\n",
      "torch                        1.13.0\n",
      "tornado                      6.1\n",
      "tqdm                         4.64.1\n",
      "traitlets                    5.1.1\n",
      "transformers                 4.12.4\n",
      "typing_extensions            4.4.0\n",
      "uc-micro-py                  1.0.1\n",
      "urllib3                      1.26.8\n",
      "uvicorn                      0.20.0\n",
      "wcwidth                      0.2.5\n",
      "webencodings                 0.5.1\n",
      "websockets                   10.4\n",
      "Werkzeug                     2.2.2\n",
      "wheel                        0.37.1\n",
      "Wikipedia-API                0.5.4\n",
      "wincertstore                 0.2\n",
      "wrapt                        1.14.1\n",
      "yarl                         1.8.1\n",
      "zipp                         3.7.0\n"
     ]
    }
   ],
   "source": [
    "!pip list"
   ]
  },
  {
   "cell_type": "code",
   "execution_count": 7,
   "metadata": {
    "tags": []
   },
   "outputs": [],
   "source": [
    "from tensorflow.keras.layers import TextVectorization"
   ]
  },
  {
   "cell_type": "code",
   "execution_count": 8,
   "metadata": {
    "tags": []
   },
   "outputs": [],
   "source": [
    "X = df['comment_text']\n",
    "y = df[df.columns[2:]].values"
   ]
  },
  {
   "cell_type": "code",
   "execution_count": 9,
   "metadata": {
    "tags": []
   },
   "outputs": [],
   "source": [
    "MAX_FEATURES = 200000 # number of words in the vocab"
   ]
  },
  {
   "cell_type": "code",
   "execution_count": 10,
   "metadata": {
    "tags": []
   },
   "outputs": [],
   "source": [
    "vectorizer = TextVectorization(max_tokens=MAX_FEATURES,\n",
    "                               output_sequence_length=1800,\n",
    "                               output_mode='int')"
   ]
  },
  {
   "cell_type": "code",
   "execution_count": 11,
   "metadata": {
    "tags": []
   },
   "outputs": [],
   "source": [
    "vectorizer.adapt(X.values)"
   ]
  },
  {
   "cell_type": "code",
   "execution_count": 12,
   "metadata": {
    "tags": []
   },
   "outputs": [],
   "source": [
    "vectorized_text = vectorizer(X.values)"
   ]
  },
  {
   "cell_type": "code",
   "execution_count": 13,
   "metadata": {
    "tags": []
   },
   "outputs": [],
   "source": [
    "#MCSHBAP - map, chache, shuffle, batch, prefetch  from_tensor_slices, list_file\n",
    "dataset = tf.data.Dataset.from_tensor_slices((vectorized_text, y))\n",
    "dataset = dataset.cache()\n",
    "dataset = dataset.shuffle(160000)\n",
    "dataset = dataset.batch(16)\n",
    "dataset = dataset.prefetch(8) # helps bottlenecks"
   ]
  },
  {
   "cell_type": "code",
   "execution_count": 14,
   "metadata": {
    "tags": []
   },
   "outputs": [],
   "source": [
    "train = dataset.take(int(len(dataset)*.7))\n",
    "val = dataset.skip(int(len(dataset)*.7)).take(int(len(dataset)*.2))\n",
    "test = dataset.skip(int(len(dataset)*.9)).take(int(len(dataset)*.1))"
   ]
  },
  {
   "cell_type": "markdown",
   "metadata": {},
   "source": [
    "# 2. Create Sequential Model"
   ]
  },
  {
   "cell_type": "code",
   "execution_count": 15,
   "metadata": {
    "tags": []
   },
   "outputs": [],
   "source": [
    "from tensorflow.keras.models import Sequential\n",
    "from tensorflow.keras.layers import LSTM, Dropout, Bidirectional, Dense, Embedding"
   ]
  },
  {
   "cell_type": "code",
   "execution_count": 16,
   "metadata": {
    "tags": []
   },
   "outputs": [],
   "source": [
    "model = Sequential()\n",
    "# Create the embedding layer \n",
    "model.add(Embedding(MAX_FEATURES+1, 32))\n",
    "# Bidirectional LSTM Layer\n",
    "model.add(Bidirectional(LSTM(32, activation='tanh')))\n",
    "# Feature extractor Fully connected layers\n",
    "model.add(Dense(128, activation='relu'))\n",
    "model.add(Dense(256, activation='relu'))\n",
    "model.add(Dense(128, activation='relu'))\n",
    "# Final layer \n",
    "model.add(Dense(6, activation='sigmoid'))"
   ]
  },
  {
   "cell_type": "code",
   "execution_count": 17,
   "metadata": {
    "tags": []
   },
   "outputs": [],
   "source": [
    "model.compile(loss='BinaryCrossentropy', optimizer='Adam')"
   ]
  },
  {
   "cell_type": "code",
   "execution_count": 18,
   "metadata": {
    "tags": []
   },
   "outputs": [
    {
     "name": "stdout",
     "output_type": "stream",
     "text": [
      "Model: \"sequential\"\n",
      "_________________________________________________________________\n",
      " Layer (type)                Output Shape              Param #   \n",
      "=================================================================\n",
      " embedding (Embedding)       (None, None, 32)          6400032   \n",
      "                                                                 \n",
      " bidirectional (Bidirectiona  (None, 64)               16640     \n",
      " l)                                                              \n",
      "                                                                 \n",
      " dense (Dense)               (None, 128)               8320      \n",
      "                                                                 \n",
      " dense_1 (Dense)             (None, 256)               33024     \n",
      "                                                                 \n",
      " dense_2 (Dense)             (None, 128)               32896     \n",
      "                                                                 \n",
      " dense_3 (Dense)             (None, 6)                 774       \n",
      "                                                                 \n",
      "=================================================================\n",
      "Total params: 6,491,686\n",
      "Trainable params: 6,491,686\n",
      "Non-trainable params: 0\n",
      "_________________________________________________________________\n"
     ]
    }
   ],
   "source": [
    "model.summary()"
   ]
  },
  {
   "cell_type": "code",
   "execution_count": 19,
   "metadata": {
    "tags": []
   },
   "outputs": [
    {
     "name": "stdout",
     "output_type": "stream",
     "text": [
      "6981/6981 [==============================] - 1810s 258ms/step - loss: 0.0626 - val_loss: 0.0461\n"
     ]
    }
   ],
   "source": [
    "history = model.fit(train, epochs=1, validation_data=val)"
   ]
  },
  {
   "cell_type": "code",
   "execution_count": 20,
   "metadata": {
    "tags": []
   },
   "outputs": [],
   "source": [
    "from matplotlib import pyplot as plt"
   ]
  },
  {
   "cell_type": "code",
   "execution_count": 21,
   "metadata": {
    "jupyter": {
     "outputs_hidden": true
    },
    "tags": []
   },
   "outputs": [
    {
     "data": {
      "text/plain": [
       "<Figure size 576x360 with 0 Axes>"
      ]
     },
     "metadata": {},
     "output_type": "display_data"
    },
    {
     "data": {
      "image/png": "[encoded data removed]",
      "text/plain": [
       "<Figure size 432x288 with 1 Axes>"
      ]
     },
     "metadata": {
      "needs_background": "light"
     },
     "output_type": "display_data"
    }
   ],
   "source": [
    "plt.figure(figsize=(8,5))\n",
    "pd.DataFrame(history.history).plot()\n",
    "plt.show()"
   ]
  },
  {
   "cell_type": "markdown",
   "metadata": {},
   "source": [
    "# 3. Make Predictions"
   ]
  },
  {
   "cell_type": "code",
   "execution_count": 22,
   "metadata": {
    "tags": []
   },
   "outputs": [],
   "source": [
    "input_text = vectorizer('You freaking suck! I am going to hit you.')"
   ]
  },
  {
   "cell_type": "code",
   "execution_count": 23,
   "metadata": {
    "tags": []
   },
   "outputs": [],
   "source": [
    "res = model.predict(np.array([input_text]))"
   ]
  },
  {
   "cell_type": "code",
   "execution_count": 24,
   "metadata": {
    "jupyter": {
     "source_hidden": true
    }
   },
   "outputs": [
    {
     "data": {
      "text/plain": [
       "array([[1, 0, 1, 0, 1, 0]])"
      ]
     },
     "execution_count": 24,
     "metadata": {},
     "output_type": "execute_result"
    }
   ],
   "source": [
    "(res > 0.5).astype(int)"
   ]
  },
  {
   "cell_type": "code",
   "execution_count": 25,
   "metadata": {},
   "outputs": [],
   "source": [
    "batch_X, batch_y = test.as_numpy_iterator().next()"
   ]
  },
  {
   "cell_type": "code",
   "execution_count": 26,
   "metadata": {
    "jupyter": {
     "outputs_hidden": true
    },
    "tags": []
   },
   "outputs": [
    {
     "data": {
      "text/plain": [
       "array([[0, 0, 0, 0, 0, 0],\n",
       "       [0, 0, 0, 0, 0, 0],\n",
       "       [0, 0, 0, 0, 0, 0],\n",
       "       [0, 0, 0, 0, 0, 0],\n",
       "       [0, 0, 0, 0, 0, 0],\n",
       "       [0, 0, 0, 0, 0, 0],\n",
       "       [0, 0, 0, 0, 0, 0],\n",
       "       [0, 0, 0, 0, 0, 0],\n",
       "       [0, 0, 0, 0, 0, 0],\n",
       "       [0, 0, 0, 0, 0, 0],\n",
       "       [0, 0, 0, 0, 0, 0],\n",
       "       [0, 0, 0, 0, 0, 0],\n",
       "       [0, 0, 0, 0, 0, 0],\n",
       "       [1, 0, 1, 0, 1, 0],\n",
       "       [1, 0, 1, 0, 1, 0],\n",
       "       [1, 0, 1, 0, 1, 0]])"
      ]
     },
     "execution_count": 26,
     "metadata": {},
     "output_type": "execute_result"
    }
   ],
   "source": [
    "(model.predict(batch_X) > 0.5).astype(int)"
   ]
  },
  {
   "cell_type": "code",
   "execution_count": 27,
   "metadata": {},
   "outputs": [
    {
     "data": {
      "text/plain": [
       "(1, 6)"
      ]
     },
     "execution_count": 27,
     "metadata": {},
     "output_type": "execute_result"
    }
   ],
   "source": [
    "res.shape"
   ]
  },
  {
   "cell_type": "code",
   "execution_count": 28,
   "metadata": {},
   "outputs": [
    {
     "data": {
      "text/plain": [
       "array([[0.98743004, 0.19382653, 0.89984995, 0.04787036, 0.74728346,\n",
       "        0.16299686]], dtype=float32)"
      ]
     },
     "execution_count": 28,
     "metadata": {},
     "output_type": "execute_result"
    }
   ],
   "source": [
    "res"
   ]
  },
  {
   "cell_type": "markdown",
   "metadata": {},
   "source": [
    "# 4. Evaluate Model"
   ]
  },
  {
   "cell_type": "code",
   "execution_count": 29,
   "metadata": {
    "tags": []
   },
   "outputs": [],
   "source": [
    "from tensorflow.keras.metrics import Precision, Recall, CategoricalAccuracy"
   ]
  },
  {
   "cell_type": "code",
   "execution_count": 30,
   "metadata": {
    "tags": []
   },
   "outputs": [],
   "source": [
    "pre = Precision()\n",
    "re = Recall()\n",
    "acc = CategoricalAccuracy()"
   ]
  },
  {
   "cell_type": "code",
   "execution_count": 31,
   "metadata": {
    "tags": []
   },
   "outputs": [],
   "source": [
    "for batch in test.as_numpy_iterator(): \n",
    "    # Unpack the batch \n",
    "    X_true, y_true = batch\n",
    "    # Make a prediction \n",
    "    yhat = model.predict(X_true)\n",
    "    \n",
    "    # Flatten the predictions\n",
    "    y_true = y_true.flatten()\n",
    "    yhat = yhat.flatten()\n",
    "    \n",
    "    pre.update_state(y_true, yhat)\n",
    "    re.update_state(y_true, yhat)\n",
    "    acc.update_state(y_true, yhat)"
   ]
  },
  {
   "cell_type": "code",
   "execution_count": 32,
   "metadata": {
    "tags": []
   },
   "outputs": [
    {
     "name": "stdout",
     "output_type": "stream",
     "text": [
      "Precision: 0.7706948518753052, Recall:0.7430818676948547, Accuracy:0.46840521693229675\n"
     ]
    }
   ],
   "source": [
    "print(f'Precision: {pre.result().numpy()}, Recall:{re.result().numpy()}, Accuracy:{acc.result().numpy()}')"
   ]
  },
  {
   "cell_type": "markdown",
   "metadata": {},
   "source": [
    "# 5. Testing"
   ]
  },
  {
   "cell_type": "code",
   "execution_count": 33,
   "metadata": {},
   "outputs": [],
   "source": [
    "model.save('toxicity.h5')"
   ]
  },
  {
   "cell_type": "code",
   "execution_count": 34,
   "metadata": {},
   "outputs": [],
   "source": [
    "model = tf.keras.models.load_model('toxicity.h5')"
   ]
  },
  {
   "cell_type": "code",
   "execution_count": 35,
   "metadata": {},
   "outputs": [],
   "source": [
    "comment = 'hey i freaken hate you!'\n",
    "input_str = vectorizer('hey i freaken hate you!')"
   ]
  },
  {
   "cell_type": "code",
   "execution_count": null,
   "metadata": {},
   "outputs": [],
   "source": []
  },
  {
   "cell_type": "code",
   "execution_count": 36,
   "metadata": {},
   "outputs": [],
   "source": [
    "results = model.predict(np.array([input_str]))"
   ]
  },
  {
   "cell_type": "code",
   "execution_count": 37,
   "metadata": {},
   "outputs": [
    {
     "data": {
      "text/plain": [
       "array([[0.89291465, 0.03975529, 0.5803042 , 0.0437987 , 0.52402616,\n",
       "        0.09300096]], dtype=float32)"
      ]
     },
     "execution_count": 37,
     "metadata": {},
     "output_type": "execute_result"
    }
   ],
   "source": [
    "results"
   ]
  },
  {
   "cell_type": "code",
   "execution_count": 38,
   "metadata": {
    "scrolled": true
   },
   "outputs": [
    {
     "name": "stdout",
     "output_type": "stream",
     "text": [
      "toxic: True\n",
      "severe_toxic: False\n",
      "obscene: True\n",
      "threat: False\n",
      "insult: True\n",
      "identity_hate: False\n",
      "\n"
     ]
    }
   ],
   "source": [
    "text = ''\n",
    "for idx, col in enumerate(df.columns[2:]):\n",
    "    text += '{}: {}\\n'.format(col, results[0][idx]>0.5)\n",
    "\n",
    "print(text)"
   ]
  },
  {
   "cell_type": "markdown",
   "metadata": {},
   "source": [
    "# 6. User Interface"
   ]
  },
  {
   "cell_type": "code",
   "execution_count": 39,
   "metadata": {
    "jupyter": {
     "outputs_hidden": true
    },
    "tags": []
   },
   "outputs": [
    {
     "name": "stdout",
     "output_type": "stream",
     "text": [
      "Requirement already satisfied: gradio in j:\\program files\\anaconda3\\envs\\python37\\lib\\site-packages (3.11.0)\n",
      "Requirement already satisfied: jinja2 in j:\\program files\\anaconda3\\envs\\python37\\lib\\site-packages (3.0.2)\n",
      "Requirement already satisfied: uvicorn in j:\\program files\\anaconda3\\envs\\python37\\lib\\site-packages (from gradio) (0.20.0)\n",
      "Requirement already satisfied: aiohttp in j:\\program files\\anaconda3\\envs\\python37\\lib\\site-packages (from gradio) (3.8.3)\n",
      "Requirement already satisfied: markdown-it-py[linkify,plugins] in j:\\program files\\anaconda3\\envs\\python37\\lib\\site-packages (from gradio) (2.1.0)\n",
      "Requirement already satisfied: ffmpy in j:\\program files\\anaconda3\\envs\\python37\\lib\\site-packages (from gradio) (0.3.0)\n",
      "Requirement already satisfied: fsspec in j:\\program files\\anaconda3\\envs\\python37\\lib\\site-packages (from gradio) (2022.11.0)\n",
      "Requirement already satisfied: httpx in j:\\program files\\anaconda3\\envs\\python37\\lib\\site-packages (from gradio) (0.23.1)\n",
      "Requirement already satisfied: h11<0.13,>=0.11 in j:\\program files\\anaconda3\\envs\\python37\\lib\\site-packages (from gradio) (0.12.0)\n",
      "Requirement already satisfied: pydantic in j:\\program files\\anaconda3\\envs\\python37\\lib\\site-packages (from gradio) (1.10.2)\n",
      "Requirement already satisfied: matplotlib in j:\\program files\\anaconda3\\envs\\python37\\lib\\site-packages (from gradio) (3.5.1)\n",
      "Requirement already satisfied: requests in j:\\program files\\anaconda3\\envs\\python37\\lib\\site-packages (from gradio) (2.27.1)\n",
      "Requirement already satisfied: python-multipart in j:\\program files\\anaconda3\\envs\\python37\\lib\\site-packages (from gradio) (0.0.5)\n",
      "Requirement already satisfied: paramiko in j:\\program files\\anaconda3\\envs\\python37\\lib\\site-packages (from gradio) (2.12.0)\n",
      "Requirement already satisfied: websockets>=10.0 in j:\\program files\\anaconda3\\envs\\python37\\lib\\site-packages (from gradio) (10.4)\n",
      "Requirement already satisfied: numpy in j:\\program files\\anaconda3\\envs\\python37\\lib\\site-packages (from gradio) (1.21.4)\n",
      "Requirement already satisfied: pillow in j:\\program files\\anaconda3\\envs\\python37\\lib\\site-packages (from gradio) (9.0.1)\n",
      "Requirement already satisfied: fastapi in j:\\program files\\anaconda3\\envs\\python37\\lib\\site-packages (from gradio) (0.88.0)\n",
      "Requirement already satisfied: pycryptodome in j:\\program files\\anaconda3\\envs\\python37\\lib\\site-packages (from gradio) (3.16.0)\n",
      "Requirement already satisfied: pyyaml in j:\\program files\\anaconda3\\envs\\python37\\lib\\site-packages (from gradio) (6.0)\n",
      "Requirement already satisfied: orjson in j:\\program files\\anaconda3\\envs\\python37\\lib\\site-packages (from gradio) (3.8.2)\n",
      "Requirement already satisfied: pydub in j:\\program files\\anaconda3\\envs\\python37\\lib\\site-packages (from gradio) (0.25.1)\n",
      "Requirement already satisfied: pandas in j:\\program files\\anaconda3\\envs\\python37\\lib\\site-packages (from gradio) (1.3.4)\n",
      "Requirement already satisfied: MarkupSafe>=2.0 in j:\\program files\\anaconda3\\envs\\python37\\lib\\site-packages (from jinja2) (2.1.1)\n",
      "Requirement already satisfied: asynctest==0.13.0 in j:\\program files\\anaconda3\\envs\\python37\\lib\\site-packages (from aiohttp->gradio) (0.13.0)\n",
      "Requirement already satisfied: typing-extensions>=3.7.4 in j:\\program files\\anaconda3\\envs\\python37\\lib\\site-packages (from aiohttp->gradio) (4.4.0)\n",
      "Requirement already satisfied: multidict<7.0,>=4.5 in j:\\program files\\anaconda3\\envs\\python37\\lib\\site-packages (from aiohttp->gradio) (6.0.2)\n",
      "Requirement already satisfied: attrs>=17.3.0 in j:\\program files\\anaconda3\\envs\\python37\\lib\\site-packages (from aiohttp->gradio) (21.4.0)\n",
      "Requirement already satisfied: frozenlist>=1.1.1 in j:\\program files\\anaconda3\\envs\\python37\\lib\\site-packages (from aiohttp->gradio) (1.3.3)\n",
      "Requirement already satisfied: yarl<2.0,>=1.0 in j:\\program files\\anaconda3\\envs\\python37\\lib\\site-packages (from aiohttp->gradio) (1.8.1)\n",
      "Requirement already satisfied: aiosignal>=1.1.2 in j:\\program files\\anaconda3\\envs\\python37\\lib\\site-packages (from aiohttp->gradio) (1.3.1)\n",
      "Requirement already satisfied: charset-normalizer<3.0,>=2.0 in j:\\program files\\anaconda3\\envs\\python37\\lib\\site-packages (from aiohttp->gradio) (2.0.12)\n",
      "Requirement already satisfied: async-timeout<5.0,>=4.0.0a3 in j:\\program files\\anaconda3\\envs\\python37\\lib\\site-packages (from aiohttp->gradio) (4.0.2)\n",
      "Requirement already satisfied: idna>=2.0 in j:\\program files\\anaconda3\\envs\\python37\\lib\\site-packages (from yarl<2.0,>=1.0->aiohttp->gradio) (3.3)\n",
      "Requirement already satisfied: starlette==0.22.0 in j:\\program files\\anaconda3\\envs\\python37\\lib\\site-packages (from fastapi->gradio) (0.22.0)\n",
      "Requirement already satisfied: anyio<5,>=3.4.0 in j:\\program files\\anaconda3\\envs\\python37\\lib\\site-packages (from starlette==0.22.0->fastapi->gradio) (3.6.2)\n",
      "Requirement already satisfied: sniffio>=1.1 in j:\\program files\\anaconda3\\envs\\python37\\lib\\site-packages (from anyio<5,>=3.4.0->starlette==0.22.0->fastapi->gradio) (1.3.0)\n",
      "Requirement already satisfied: httpcore<0.17.0,>=0.15.0 in j:\\program files\\anaconda3\\envs\\python37\\lib\\site-packages (from httpx->gradio) (0.15.0)\n",
      "Requirement already satisfied: certifi in j:\\program files\\anaconda3\\envs\\python37\\lib\\site-packages (from httpx->gradio) (2021.10.8)\n",
      "Requirement already satisfied: rfc3986[idna2008]<2,>=1.3 in j:\\program files\\anaconda3\\envs\\python37\\lib\\site-packages (from httpx->gradio) (1.5.0)\n",
      "Requirement already satisfied: mdurl~=0.1 in j:\\program files\\anaconda3\\envs\\python37\\lib\\site-packages (from markdown-it-py[linkify,plugins]->gradio) (0.1.2)\n",
      "Requirement already satisfied: mdit-py-plugins in j:\\program files\\anaconda3\\envs\\python37\\lib\\site-packages (from markdown-it-py[linkify,plugins]->gradio) (0.3.1)\n",
      "Requirement already satisfied: linkify-it-py~=1.0 in j:\\program files\\anaconda3\\envs\\python37\\lib\\site-packages (from markdown-it-py[linkify,plugins]->gradio) (1.0.3)\n",
      "Requirement already satisfied: uc-micro-py in j:\\program files\\anaconda3\\envs\\python37\\lib\\site-packages (from linkify-it-py~=1.0->markdown-it-py[linkify,plugins]->gradio) (1.0.1)\n",
      "Requirement already satisfied: python-dateutil>=2.7 in j:\\program files\\anaconda3\\envs\\python37\\lib\\site-packages (from matplotlib->gradio) (2.8.2)\n",
      "Requirement already satisfied: kiwisolver>=1.0.1 in j:\\program files\\anaconda3\\envs\\python37\\lib\\site-packages (from matplotlib->gradio) (1.3.2)\n",
      "Requirement already satisfied: packaging>=20.0 in j:\\program files\\anaconda3\\envs\\python37\\lib\\site-packages (from matplotlib->gradio) (21.3)\n",
      "Requirement already satisfied: fonttools>=4.22.0 in j:\\program files\\anaconda3\\envs\\python37\\lib\\site-packages (from matplotlib->gradio) (4.29.1)\n",
      "Requirement already satisfied: pyparsing>=2.2.1 in j:\\program files\\anaconda3\\envs\\python37\\lib\\site-packages (from matplotlib->gradio) (3.0.4)\n",
      "Requirement already satisfied: cycler>=0.10 in j:\\program files\\anaconda3\\envs\\python37\\lib\\site-packages (from matplotlib->gradio) (0.11.0)\n",
      "Requirement already satisfied: six>=1.5 in j:\\program files\\anaconda3\\envs\\python37\\lib\\site-packages (from python-dateutil>=2.7->matplotlib->gradio) (1.16.0)\n",
      "Requirement already satisfied: pytz>=2017.3 in j:\\program files\\anaconda3\\envs\\python37\\lib\\site-packages (from pandas->gradio) (2021.3)\n",
      "Requirement already satisfied: bcrypt>=3.1.3 in j:\\program files\\anaconda3\\envs\\python37\\lib\\site-packages (from paramiko->gradio) (4.0.1)\n",
      "Requirement already satisfied: cryptography>=2.5 in j:\\program files\\anaconda3\\envs\\python37\\lib\\site-packages (from paramiko->gradio) (38.0.4)\n",
      "Requirement already satisfied: pynacl>=1.0.1 in j:\\program files\\anaconda3\\envs\\python37\\lib\\site-packages (from paramiko->gradio) (1.5.0)\n",
      "Requirement already satisfied: cffi>=1.12 in j:\\program files\\anaconda3\\envs\\python37\\lib\\site-packages (from cryptography>=2.5->paramiko->gradio) (1.15.0)\n",
      "Requirement already satisfied: pycparser in j:\\program files\\anaconda3\\envs\\python37\\lib\\site-packages (from cffi>=1.12->cryptography>=2.5->paramiko->gradio) (2.21)\n",
      "Requirement already satisfied: urllib3<1.27,>=1.21.1 in j:\\program files\\anaconda3\\envs\\python37\\lib\\site-packages (from requests->gradio) (1.26.8)\n",
      "Requirement already satisfied: click>=7.0 in j:\\program files\\anaconda3\\envs\\python37\\lib\\site-packages (from uvicorn->gradio) (8.1.3)\n",
      "Requirement already satisfied: importlib-metadata in j:\\program files\\anaconda3\\envs\\python37\\lib\\site-packages (from click>=7.0->uvicorn->gradio) (5.1.0)\n",
      "Requirement already satisfied: colorama in j:\\program files\\anaconda3\\envs\\python37\\lib\\site-packages (from click>=7.0->uvicorn->gradio) (0.4.4)\n",
      "Requirement already satisfied: zipp>=0.5 in j:\\program files\\anaconda3\\envs\\python37\\lib\\site-packages (from importlib-metadata->click>=7.0->uvicorn->gradio) (3.7.0)\n"
     ]
    }
   ],
   "source": [
    "!pip install gradio jinja2"
   ]
  },
  {
   "cell_type": "code",
   "execution_count": 40,
   "metadata": {
    "jupyter": {
     "outputs_hidden": true
    },
    "tags": []
   },
   "outputs": [],
   "source": [
    "import tensorflow as tf\n",
    "import gradio as gr"
   ]
  },
  {
   "cell_type": "code",
   "execution_count": 41,
   "metadata": {
    "tags": []
   },
   "outputs": [],
   "source": [
    "def score_comment(comment):\n",
    "    vectorized_comment = vectorizer([comment])\n",
    "    results = model.predict(vectorized_comment)\n",
    "    \n",
    "    text = ''\n",
    "    for idx, col in enumerate(df.columns[2:]):\n",
    "        text += '{}: {}\\n'.format(col, results[0][idx]>0.5)\n",
    "    \n",
    "    return text"
   ]
  },
  {
   "cell_type": "code",
   "execution_count": 42,
   "metadata": {
    "tags": []
   },
   "outputs": [
    {
     "name": "stderr",
     "output_type": "stream",
     "text": [
      "J:\\Program Files\\Anaconda3\\envs\\python37\\lib\\site-packages\\gradio\\inputs.py:27: UserWarning: Usage of gradio.inputs is deprecated, and will not be supported in the future, please import your component from gradio.components\n",
      "  \"Usage of gradio.inputs is deprecated, and will not be supported in the future, please import your component from gradio.components\",\n",
      "J:\\Program Files\\Anaconda3\\envs\\python37\\lib\\site-packages\\gradio\\deprecation.py:40: UserWarning: `optional` parameter is deprecated, and it has no effect\n",
      "  warnings.warn(value)\n",
      "J:\\Program Files\\Anaconda3\\envs\\python37\\lib\\site-packages\\gradio\\deprecation.py:40: UserWarning: `numeric` parameter is deprecated, and it has no effect\n",
      "  warnings.warn(value)\n"
     ]
    }
   ],
   "source": [
    "interface = gr.Interface(fn=score_comment, \n",
    "                         inputs=gr.inputs.Textbox(lines=2, placeholder='Comment to score'),\n",
    "                        outputs='text')"
   ]
  },
  {
   "cell_type": "code",
   "execution_count": 43,
   "metadata": {
    "tags": []
   },
   "outputs": [
    {
     "name": "stdout",
     "output_type": "stream",
     "text": [
      "Running on local URL:  http://127.0.0.1:7860\n",
      "Running on public URL: https://c4573352d233328e.gradio.app\n",
      "\n",
      "This share link expires in 72 hours. For free permanent hosting and GPU upgrades (NEW!), check out Spaces: https://huggingface.co/spaces\n"
     ]
    },
    {
     "data": {
      "text/html": [
       "<div><iframe src=\"https://c4573352d233328e.gradio.app\" width=\"100%\" height=\"500\" allow=\"autoplay; camera; microphone; clipboard-read; clipboard-write;\" frameborder=\"0\" allowfullscreen></iframe></div>"
      ],
      "text/plain": [
       "<IPython.core.display.HTML object>"
      ]
     },
     "metadata": {},
     "output_type": "display_data"
    },
    {
     "data": {
      "text/plain": []
     },
     "execution_count": 43,
     "metadata": {},
     "output_type": "execute_result"
    }
   ],
   "source": [
    "interface.launch(share=True)"
   ]
  }
 ],
 "metadata": {
  "kernelspec": {
   "display_name": "Python 3 (ipykernel)",
   "language": "python",
   "name": "python3"
  },
  "language_info": {
   "codemirror_mode": {
    "name": "ipython",
    "version": 3
   },
   "file_extension": ".py",
   "mimetype": "text/x-python",
   "name": "python",
   "nbconvert_exporter": "python",
   "pygments_lexer": "ipython3",
   "version": "3.7.11"
  }
 },
 "nbformat": 4,
 "nbformat_minor": 4
}
